{
 "cells": [
  {
   "cell_type": "markdown",
   "metadata": {},
   "source": [
    "\n",
    "<img src=\"https://cmse.msu.edu/_cmse/assets/Image/CMSE-bigger.png\"\n",
    "     alt=\"CMSE Grapical Image\"\n",
    "     align=\"left\" \n",
    "     height=\"82\" \n",
    "     width=\"82\" />\n",
    " \n",
    " <img src=\"https://cdn.jamanetwork.com/ama/content_public/journal/jama/4953/m_jpg1124f1.jpeg?Expires=2147483647&Signature=wEAZM45MnrhQryVXyhjrcwAcyo1vnOwr-MQEz1gtwOfkON5zrdRR7jlNd38tNf9679dj7YNmOtMolQ0YluVUslQ1KbrdPeeu4XNkyaYPn50lfine6gfsglDVpdssU-NKLF1LANxQj1K2boHgPN0Yww7mBoq~2ky~MQPzpAbbF7D-bLL-99P7gMjXw7aOPsXgJM5cuSPWBgk2mZxzD2kWmwtkMBaqkBig~0qLd2FaZ6Ql7ZmiWpffcPMXmMg~nBiWXH0687v5gKyACXPhkosz64O3oynVGcnJD6G~TrqBBLIK1vKl2IRQbmlZicNqHW9tF0kc3X5K5Gd78gtkR9w3VQ__&Key-Pair-Id=APKAIE5G5CRDK6RD3PGA\"\n",
    "     alt=\"CAD\"\n",
    "     align=\"right\"  \n",
    "     width=\"200\" />  \n",
    "     \n",
    "## __CMSE  201 - Spring 2019__\n",
    "\n",
    "\n",
    "## Homework 6: Model Optimization using Monte Carlo Methods\n",
    "\n",
    "### Using Markov Chain Monte Carlo approach to optimize a compartmental model\n",
    "\n",
    "\n",
    "Heart Disease is the leading cause of death throughout the world.  The most common form of heart disease is <a href=\"https://my.clevelandclinic.org/health/diseases/16898-coronary-artery-disease\">**coronary artery disease**</a> which is the narrowing or blockage of the coronary arteries that can lead to acute events such as a heart attack and/or chronic conditions such as stable chest pain.  There are several non-invasive tests to evaluate coronary artery disease.  One advanced method is to use Cardiac <a href=\"https://en.wikipedia.org/wiki/Positron_emission_tomography\">Positron Emission Tomography (PET)</a>.  This approach relies on fitting a compartmental model to measured data.  The goal of this assignment is to perform this fitting on sample patients to identify high risk individuals.\n",
    "\n",
    "\n"
   ]
  },
  {
   "cell_type": "markdown",
   "metadata": {},
   "source": [
    "## Goals\n",
    "\n",
    "### By the end of the homework assignment you will have practiced:\n",
    "\n",
    "1. Loading data using pandas,\n",
    "2. Reading and using pre-existing code to solve complex problems,\n",
    "3. Use of compartmental models,\n",
    "4. Generating and applying random numbers for different applications,\n",
    "5. Developing a Markov Chain Monte Carlo optimization technique to fit a model to measured data.\n"
   ]
  },
  {
   "cell_type": "markdown",
   "metadata": {},
   "source": [
    "## Assignment instructions\n",
    "\n",
    "Work through the following assignment, making sure to follow all of the directions and answer all of the questions.\n",
    "\n",
    "**This assignment is due roughly two weeks from now at 11:59pm on Friday, April 12th.** It should be uploaded into the \"Homework Assignments\" dropbox folder for Homework 6.  Submission instructions can be found at the end of the notebook."
   ]
  },
  {
   "cell_type": "markdown",
   "metadata": {},
   "source": [
    "## Grading\n",
    "\n",
    "\n",
    "* Part 1: Background and exploring patient data with pandas (11 points)\n",
    "   - Question 1 (1 points)\n",
    "   - Question 2 (2 points)\n",
    "   - Question 3 (4 points)\n",
    "   - Question 4 (4 points)\n",
    "\n",
    "* Part 2: Solving the blood-tissue exchange in myocardial muscle compartmental model (17 points)\n",
    "   - Question 5 (4 points)\n",
    "   - Question 6 (3 points)\n",
    "   - Question 7 (5 points)\n",
    "   - Question 8 (4 points)\n",
    "   - Question 9 (1 point)\n",
    "\n",
    "* Part 3: Optimization of a compartmental model (17 points)\n",
    "   - Question 10 (3 points)\n",
    "   - Question 11 (5 points)\n",
    "   - Question 12 (3 points)\n",
    "   - Question 13 (3 points)\n",
    "   - Question 14 (3 points)\n",
    "\n",
    "Total points possible: **45**"
   ]
  },
  {
   "cell_type": "markdown",
   "metadata": {},
   "source": [
    "---\n",
    "## Part 1: Background and exploring patient data with pandas (11 points)"
   ]
  },
  {
   "cell_type": "markdown",
   "metadata": {},
   "source": [
    "**Question 1**: Make sure you set up your notebook to produce matplotlib plots and import the right modules (numpy, pandas, scipy). Do that here.\n"
   ]
  },
  {
   "cell_type": "code",
   "execution_count": 1,
   "metadata": {},
   "outputs": [],
   "source": [
    "# Put your code here\n"
   ]
  },
  {
   "cell_type": "markdown",
   "metadata": {},
   "source": [
    "### Background\n",
    "\n",
    "Cardiac Positron Emission Tomography (PET) is a non-invasive imaging study.  In this study, a radioactive tracer is injected into the patient.  This tracer is a radioactive version of ammonia (NH$_3$).  This tracer circulates through the body and interacts with the myocardial muscle of the heart.  In short, the tracer arrives to the muscle, enters the muscle, and a portion of it is trapped in the muscle.  The arrival of the tracer follows a certain time course, which we will call the **input function** (function describing input of tracer into the capillaries next to myocardial muscle).  The PET scanner images this time course and makes a measure of the input function, $C_{in}(t)$, and of the **myocardial response**, $C_{m}(t)$.  The total system is represented in this graphic:\n",
    "\n",
    "<img src=\"http://www.egr.msu.edu/~aalessio/imgs/NH3_2comp.png\"\n",
    "     alt=\"2Comp\" \n",
    "     width=\"400\" />  \n",
    "\n",
    "\n",
    "This follows the traditional compartmental modeling approaches we have used in class with a few minor differences.  In this model, the capillary is a region with a known response (it is measured from the images).  Since this is known, we do not need to model its change in our equations.  The ordinary differential equations to represent this system are:\n",
    "\n",
    "\\begin{eqnarray}\n",
    "\\frac{dC_1}{dt} &=& k_1C_{in}(t) - k_2C_1 - k_3C_1  \\\\\n",
    "\\frac{dC_2}{dt} &=& k_3C_1 \\\\\n",
    "\\end{eqnarray}\n",
    "\n",
    "where $k_1$, $k_2$, $k_3$ are rate constants describing the movement of N-13 (the radioactive, imagable component of the tracer) in this system.  In this application, we will measure the total N-13 in the myocardial muscle, which is $C_m = C_1 + C_2$. \n",
    "\n",
    "These types of models (of varying levels of complexity) are widely used to answer questions related to blood-tissue exchange.  For example, if a drug enters the blood supply, how does it interact with the tissue?  How long does it stay in the tissue?  What parts of the tissue (inside cells, in extracellular fluid, etc) are involved?  Does the drug change states while in the tissue?  \n",
    "\n",
    "For this problem, $k_1$ is effectively the blood perfusion to the myocardial muscle.  In other words, it represents the rate of delivery of blood to the myocardial muscle.  The myocardial muscle is arguably the hardest working muscle in the human body, responsible for pumping blood to the rest of the body.  In a lifetime, the human heart will pump over 2.5 billion times and moves over 200 million liters of blood.  The heart muscle requires blood to work effectively and to stay alive.  If the perfusion is low, then a portion of muscle may die (this is what happens during a heart attack).  When a person exercises or is under stress, the heart is required to work harder and as a result the heart needs more blood to feed its muscle and perfusion increases.  In a healthy human heart, during a stressed state, the myocardial perfusion should be 2-4 ml/min/gram of tissue.  If the heart is diseased, the stress myocardial perfusion will be less than 2 ml/min/gram.  Therefore, in our model, if we find that **$k_1$ is below 2 ml/g/min**, then the patient has a problem with their heart, reflective of ongoing coronary artery disease.\n",
    "\n",
    "For this assignment, we are going to work through the following general steps:\n",
    "1. We have a model of this system, but do not know the patient specific values for $k_1$ and $k_2$ (We will assume $k_3$ is constant for all patients).\n",
    "2. We have measured $C_m$ curves from 2 patients (each curve comes from a patient with different $k_1$ and $k_2$ parameters).\n",
    "3.  We need to devise a method to fit the compartmental model (by finding the optimal $k_1$ and $k_2$ parameters) to the measured $C_m$ curves.\n",
    "\n"
   ]
  },
  {
   "cell_type": "markdown",
   "metadata": {},
   "source": [
    "**Question 2**: Using pandas, load the 2 data files that were provided with this notebook: patient1.csv, patient2.csv. These data files contain simulated measurements of the concentration of NH3 in the capillary region, $C_{in}$, and in the whole myocardial muscle region, $C_m$.  The units for time are seconds (basically one measurement every 5 seconds) and for the $C_{in}$ and $C_m$ curves are **concentrations in kBq/cc** (a measure of radioactivity per cubic centimeter).  \n",
    "\n"
   ]
  },
  {
   "cell_type": "code",
   "execution_count": 3,
   "metadata": {},
   "outputs": [],
   "source": [
    "# Put your code here\n"
   ]
  },
  {
   "cell_type": "markdown",
   "metadata": {},
   "source": [
    "**Question 3**: Make one plot for each patient containing both the input function vs times and myocardial muscle response vs time.  (All plots should contain axes labels, title, and legend)."
   ]
  },
  {
   "cell_type": "markdown",
   "metadata": {},
   "source": [
    "These curves should show the input function, $C{in}$, rising quickly before the myocardial tissue response function, $C_m$.  This represents the NH3 rapidly moving through the blood and the NH3 gradually entering and trapping in the myocardial tissue.\n",
    "\n",
    "<hr>"
   ]
  },
  {
   "cell_type": "markdown",
   "metadata": {},
   "source": [
    "While the input function is measured, we are going to assume we can generate this curve with a known function.  The following code is provided to generate the input function (this assumes that we know the exact equation for the input function). Read this code to understand what is does.  "
   ]
  },
  {
   "cell_type": "code",
   "execution_count": 6,
   "metadata": {},
   "outputs": [],
   "source": [
    "## Functions for generating input function\n",
    "\n",
    "# Returns input function in an array at all times\n",
    "def gamma_variate_array(times):\n",
    "    td = 4 # arrival delay\n",
    "    tp = 7 # time to peak\n",
    "    a = 1.2 # shape\n",
    "    ymax = 100 # max value\n",
    "    f = []\n",
    "    for t in times:\n",
    "        if t<td:\n",
    "            f.append(0.0)\n",
    "        else:\n",
    "            f.append(ymax* ((t-td)/tp)**a * math.exp(a - a*((t-td)/tp)))\n",
    "            \n",
    "    return np.array(f)\n",
    "                   \n",
    "# Returns single value of input function at time t\n",
    "def gamma_variate1(t):\n",
    "    td = 4 # arrival delay\n",
    "    tp = 7 # time to peak\n",
    "    a = 1.2 # shape\n",
    "    ymax = 100 # max value\n",
    "    if t<td:\n",
    "        f=0.0\n",
    "    else:\n",
    "        f =ymax* ((t-td)/tp)**a * math.exp(a - a*((t-td)/tp))       \n",
    "    return f\n",
    "\n",
    "# Returns single value of input function at time t (same as gamma_variate1())\n",
    "# This definition is a repeat of above just to provide a name that matches the diagram\n",
    "def Cin_estimated_func(t):\n",
    "    return gamma_variate1(t)"
   ]
  },
  {
   "cell_type": "markdown",
   "metadata": {},
   "source": [
    "**Question 4**: Now, use the above function `gamma_variate_array()` to make an array containing $C_{in}$ at all of the times present in the data file for patient 1.  Plot the array you generated versus time.  In this same figure, plot the values in 'input_function' from the `patient1.csv` file vs time. Add a legend for each curve. **Hint:** These should be identical curves. (remember to label axes)."
   ]
  },
  {
   "cell_type": "code",
   "execution_count": 7,
   "metadata": {},
   "outputs": [],
   "source": [
    "# Put your code here\n"
   ]
  },
  {
   "cell_type": "markdown",
   "metadata": {},
   "source": [
    "If successful, the curve you generated with `gamma_variate_array()` should be identical to the values in 'input_fuction' in the patient file.  This basically shows that you already have a fitted curve for $C_{in}$ and can use this function anytime you need to know the value of $C_{in}$ at any time.  Moreover, for simplicity, we made $C_{in}(t)$ identical for all the patient files."
   ]
  },
  {
   "cell_type": "markdown",
   "metadata": {},
   "source": [
    "## Part 2: Solving the blood-tissue exchange in myocardial muscle compartmental model (17 points)\n",
    "Now, we will solve for one fixed set of parameters for this compartmental model.  The following code defines the ordinary differential equations for this problem."
   ]
  },
  {
   "cell_type": "code",
   "execution_count": 9,
   "metadata": {},
   "outputs": [],
   "source": [
    "# Model of blood tissue exchange for NH3 PET Imaging\n",
    "def nh3_ode_equations(state,t,Cin,k1,k2,k3):\n",
    "   \n",
    "    C1 = state[0]\n",
    "    C2 = state[1]\n",
    "    \n",
    "    #dCindt = \n",
    "    k1_sec = k1 / 60 # original parameters are in ml/min/g, this converts to ml/sec/g\n",
    "    k2_sec = k2 / 60\n",
    "    k3_sec = k3 / 60\n",
    "    dC1dt = k1_sec*Cin(t) - k2_sec*C1 - k3_sec*C1\n",
    "    #dC1dt =  - k2*C1 - k3*C1\n",
    "      \n",
    "    dC2dt = k3_sec*C1\n",
    "    \n",
    "    return [dC1dt,dC2dt]"
   ]
  },
  {
   "cell_type": "markdown",
   "metadata": {},
   "source": [
    "**Question 5:** Solve these ordinary differential equations for the single set of parameters $k_1, k_2, k_3 = 2.6, 1.2, 1.0 $/min respectively.  Use the initial conditions of $C_1(0) = 0$ and $C_2(0) = 0$."
   ]
  },
  {
   "cell_type": "code",
   "execution_count": 10,
   "metadata": {},
   "outputs": [
    {
     "ename": "NameError",
     "evalue": "name 'k1' is not defined",
     "output_type": "error",
     "traceback": [
      "\u001b[0;31m---------------------------------------------------------------------------\u001b[0m",
      "\u001b[0;31mNameError\u001b[0m                                 Traceback (most recent call last)",
      "\u001b[0;32m<ipython-input-10-dc19757a7d06>\u001b[0m in \u001b[0;36m<module>\u001b[0;34m()\u001b[0m\n\u001b[1;32m     17\u001b[0m \u001b[0;31m#       that match the order defined in the nh3_ode_equations() definition\u001b[0m\u001b[0;34m\u001b[0m\u001b[0;34m\u001b[0m\u001b[0m\n\u001b[1;32m     18\u001b[0m \u001b[0;31m# The code performing this is provided below:\u001b[0m\u001b[0;34m\u001b[0m\u001b[0;34m\u001b[0m\u001b[0m\n\u001b[0;32m---> 19\u001b[0;31m \u001b[0margs\u001b[0m \u001b[0;34m=\u001b[0m \u001b[0;34m(\u001b[0m\u001b[0mCin_estimated_func\u001b[0m\u001b[0;34m,\u001b[0m\u001b[0mk1\u001b[0m\u001b[0;34m,\u001b[0m\u001b[0mk2\u001b[0m\u001b[0;34m,\u001b[0m\u001b[0mk3\u001b[0m\u001b[0;34m)\u001b[0m  \u001b[0;31m# More specifically, the first argument here is a function and the other 3 arguments are rates\u001b[0m\u001b[0;34m\u001b[0m\u001b[0m\n\u001b[0m\u001b[1;32m     20\u001b[0m \u001b[0msol\u001b[0m \u001b[0;34m=\u001b[0m \u001b[0modeint\u001b[0m\u001b[0;34m(\u001b[0m\u001b[0mnh3_ode_equations\u001b[0m\u001b[0;34m,\u001b[0m\u001b[0minit_conditions\u001b[0m\u001b[0;34m,\u001b[0m\u001b[0mtime_array\u001b[0m\u001b[0;34m,\u001b[0m\u001b[0margs\u001b[0m\u001b[0;34m)\u001b[0m\u001b[0;34m\u001b[0m\u001b[0m\n",
      "\u001b[0;31mNameError\u001b[0m: name 'k1' is not defined"
     ]
    }
   ],
   "source": [
    "# Complete the code below\n",
    "\n",
    "\n",
    "\n",
    "\n",
    "# Considering this problem will require varying the rate constants in \n",
    "# order to find the best rate constant, we would like to pass these into \n",
    "# the function (not fix them to a value)\n",
    "# \n",
    "# To pass arguments into odeint(), put them in a tuple and pass as the 4th input to odeint()\n",
    "# for example: \n",
    "#    args = (P1, P2, P3, P4)\n",
    "# Then call odeint() with \n",
    "#    odeint(func, y0, t, args)\n",
    "# (This is the same call you have used before with the addition of \"args\")\n",
    "# Note: P1, P2, P3, P4 need to be the correctly ordered variables \n",
    "#       that match the order defined in the nh3_ode_equations() definition \n",
    "# The code performing this is provided below:\n",
    "args = (Cin_estimated_func,k1,k2,k3)  # More specifically, the first argument here is a function and the other 3 arguments are rates\n",
    "sol = odeint(nh3_ode_equations,init_conditions,time_array,args)\n"
   ]
  },
  {
   "cell_type": "markdown",
   "metadata": {},
   "source": [
    "**Question 6:** Make a plot of the values of $C_1$, $C_2$, and $C_m$ versus time.  Be sure to label the axis and include a legend."
   ]
  },
  {
   "cell_type": "code",
   "execution_count": 12,
   "metadata": {},
   "outputs": [],
   "source": [
    "# Put your code here"
   ]
  },
  {
   "cell_type": "markdown",
   "metadata": {},
   "source": [
    "This plot provides the solution for each compartment for one set of parameters (one set of rate constants). "
   ]
  },
  {
   "cell_type": "markdown",
   "metadata": {},
   "source": [
    "**Question 7:** Define a single function that has five inputs ($k_1, k_2, k_3$ parameters, $C_{in}$, and a time array), solves the system of ordinary differential equations using `odeint()`, and returns the array containing $C_m$.  (This is basically taking the code you wrote above and puts it in a function).  Run this function once (for $k_1, k_2, k_3 = 2.6, 1.2, 1.0 $/min respectively) and plot the result of this function to make sure it matches the result above."
   ]
  },
  {
   "cell_type": "code",
   "execution_count": 14,
   "metadata": {},
   "outputs": [],
   "source": [
    "# Put your code here\n"
   ]
  },
  {
   "cell_type": "markdown",
   "metadata": {},
   "source": [
    "**Question 8:** Using your function from question 7, make three $C_m$ curves for three hypothetical patients with $k_1$ = 0.5, 2.0, 4.0 ml/min/g, representing poor perfusion, adequate perfusion, and great perfusion.  Keep $k_2$ =1.2 /min and $k_3$ = 1.0 /min.  Make a single plot with all three curves (include a legend)."
   ]
  },
  {
   "cell_type": "code",
   "execution_count": 16,
   "metadata": {},
   "outputs": [],
   "source": [
    "# Put your code here\n"
   ]
  },
  {
   "cell_type": "markdown",
   "metadata": {},
   "source": [
    "**Question 9:** What do you observe changing about these curves as the perfusion increases?"
   ]
  },
  {
   "cell_type": "markdown",
   "metadata": {},
   "source": [
    "Write your response here"
   ]
  },
  {
   "cell_type": "markdown",
   "metadata": {},
   "source": [
    "---\n",
    "## Part 3: Optimization of a compartmental model (17 points)\n",
    "\n"
   ]
  },
  {
   "cell_type": "markdown",
   "metadata": {},
   "source": [
    "The goal of this work is to fit the compartmental model discussed above to the myocardial response curves.  In other words, we need to find the optimal $k_1$ and $k_2$ that best fits the measured myocardial curve.  We will use a Monte Carlo based approach for this (using random steps to approach optimal solution)."
   ]
  },
  {
   "cell_type": "markdown",
   "metadata": {},
   "source": [
    "This portion of the assignment will develop a method to minimize the chi squared error between the measured data and the estimated data from the compartmental model.  The function to calculate the chi squared error is provided below (same as the function used for the Day 21 in-class assignment)."
   ]
  },
  {
   "cell_type": "code",
   "execution_count": 18,
   "metadata": {},
   "outputs": [],
   "source": [
    "def chi_squared_error(ydata_measured,ydata_estimated,sigma):\n",
    "    '''\n",
    "    Takes in the 1) observed/measured data, 2) our model's estimated y-values \n",
    "    for the model, and 3) our estimate for the sigma (noise) in the data.\n",
    "    \n",
    "    Returns sum-of-squares error (chi-squared error) \n",
    "    '''\n",
    "    \n",
    "    return ((ydata_measured-ydata_estimated)**2/(2*sigma**2)).sum()/(ydata_estimated.size)"
   ]
  },
  {
   "cell_type": "markdown",
   "metadata": {},
   "source": [
    "**Question 10:** Use the above function to calculate the chi square error between the measured $C_m$ for patient 1 and an estimated $C_m$ (for a single arbitrary set of parameters $k_1, k_2, k_3 = 2.6, 1.2, 1.0 $/min respectively).  Print the chi square error."
   ]
  },
  {
   "cell_type": "code",
   "execution_count": 19,
   "metadata": {},
   "outputs": [],
   "source": [
    "# Put your code here\n",
    "sigma = 1    # Assumed noise in the measured Cm curve\n",
    "\n"
   ]
  },
  {
   "cell_type": "markdown",
   "metadata": {},
   "source": [
    "### Implement the Metropolis-Hastings algorithm \n",
    "\n",
    "Implement the algorithm described in the Day 21 In-Class assignment.  In brief, the general idea behind MCMC fitting of our data is that we will start from a guess at our model parameters and \"walk\" in random directions in parameter space in a way that on average gets us closer to the best fit to the data.  "
   ]
  },
  {
   "cell_type": "markdown",
   "metadata": {},
   "source": [
    "For this problem, we are going to assume that $k_3$ is constant across all patients under the assumption that the trapping rate of the tracer does not change with disease.  We will assume $k_3 = 1.0$ / min.\n",
    "\n",
    "**Question 11:** Now you're on your own! Set up a MCMC fitting of the proposed compartmental model, which generates an estimated myocardial response curve, to the measured myocardial response data. We have the starting setup and initial conditions below.\n",
    "\n"
   ]
  },
  {
   "cell_type": "code",
   "execution_count": 21,
   "metadata": {},
   "outputs": [],
   "source": [
    "# Enforce assumption that k3 is fixed\n",
    "k3 = 1.0 # 1/min\n",
    "\n",
    "# Total number of points we're going to sample (start out with at least 10^4)\n",
    "num_sample_points = 10000\n",
    "\n",
    "# Weight factor in front of the random step\n",
    "step_size = 0.02\n",
    "\n",
    "# Provide an initial guess for the k1 and k2 parameters\n",
    "# As we move the walker around, we'll use these same lists to \n",
    "# store our new values so that we can visualize the path later!\n",
    "# (Note: that means you'll want to append new values to these lists!)\n",
    "k1_list = [2]\n",
    "k2_list = [2]\n",
    "\n",
    "sigma = 1    # Assumed noise in the measured Cm curve\n",
    "\n",
    "\n",
    "### Put your code here ###\n",
    "\n"
   ]
  },
  {
   "cell_type": "markdown",
   "metadata": {},
   "source": [
    "**Question 12:** Make a plot of where the random walker went (a plot of $k_1$ vs $k_2$) for patient 1.  What is the final estimated value for $k_1$ and $k_2$? (label axes)"
   ]
  },
  {
   "cell_type": "code",
   "execution_count": 23,
   "metadata": {},
   "outputs": [],
   "source": [
    "### Put your code here for Q12###"
   ]
  },
  {
   "cell_type": "markdown",
   "metadata": {},
   "source": [
    "**Question 13:** Make plot of the optimal computed model overlayed with the measured data for patient 1.  How well does your model fit the data (describe in words)?"
   ]
  },
  {
   "cell_type": "code",
   "execution_count": 25,
   "metadata": {},
   "outputs": [],
   "source": [
    "### Put your code here for Q13 ###"
   ]
  },
  {
   "cell_type": "markdown",
   "metadata": {},
   "source": [
    "**Question 14:** Using the same procedure above, fit the model parameters to the myocardial curve from patient 2.  Answer these following questions: \n",
    "\n",
    "A. What is the final estimated value for $k_1$ vs $k_2$ for patient 2?  \n"
   ]
  },
  {
   "cell_type": "code",
   "execution_count": 27,
   "metadata": {},
   "outputs": [],
   "source": [
    "### Put your answer/code here for Q14 A ###"
   ]
  },
  {
   "cell_type": "markdown",
   "metadata": {},
   "source": [
    "B. Did the model fit the measured curve well? How can you tell?   "
   ]
  },
  {
   "cell_type": "code",
   "execution_count": 28,
   "metadata": {},
   "outputs": [],
   "source": [
    "### Put your answer here for Q14 B ###"
   ]
  },
  {
   "cell_type": "markdown",
   "metadata": {},
   "source": [
    "C. Between patient 1 and 2, who had the better myocardial perfusion?"
   ]
  },
  {
   "cell_type": "code",
   "execution_count": 29,
   "metadata": {},
   "outputs": [],
   "source": [
    "### Put your answer/code here for Q14 C ###"
   ]
  },
  {
   "cell_type": "markdown",
   "metadata": {},
   "source": [
    "---\n",
    "## Assignment wrap-up\n",
    "\n",
    "Please fill out the form that appears when you run the code below.  **You must completely fill this out in order to receive credit for the assignment!**"
   ]
  },
  {
   "cell_type": "code",
   "execution_count": null,
   "metadata": {},
   "outputs": [],
   "source": [
    "from IPython.display import HTML\n",
    "HTML(\n",
    "\"\"\"\n",
    "<iframe \n",
    "\tsrc=\"https://forms.gle/UHGpbxFjHFjfRhwH7\" \n",
    "\twidth=\"800px\" \n",
    "\theight=\"600px\" \n",
    "\tframeborder=\"0\" \n",
    "\tmarginheight=\"0\" \n",
    "\tmarginwidth=\"0\">\n",
    "\tLoading...\n",
    "</iframe>\n",
    "\"\"\"\n",
    ")"
   ]
  },
  {
   "cell_type": "markdown",
   "metadata": {},
   "source": [
    "---\n",
    "\n",
    "### Congratulations, you're done!\n",
    "\n",
    "Submit this assignment by uploading it to the course Desire2Learn web page.  Go to the \"Homework Assignments\" folder, find the dropbox link for Homework #6, and upload it there."
   ]
  }
 ],
 "metadata": {
  "kernelspec": {
   "display_name": "Python 3",
   "language": "python",
   "name": "python3"
  },
  "language_info": {
   "codemirror_mode": {
    "name": "ipython",
    "version": 3
   },
   "file_extension": ".py",
   "mimetype": "text/x-python",
   "name": "python",
   "nbconvert_exporter": "python",
   "pygments_lexer": "ipython3",
   "version": "3.7.0"
  }
 },
 "nbformat": 4,
 "nbformat_minor": 2
}
