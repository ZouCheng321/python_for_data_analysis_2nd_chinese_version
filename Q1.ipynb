{
 "cells": [
  {
   "cell_type": "markdown",
   "metadata": {
    "toc": true
   },
   "source": [
    "<h1>Table of Contents<span class=\"tocSkip\"></span></h1>\n",
    "<div class=\"toc\"><ul class=\"toc-item\"></ul></div>"
   ]
  },
  {
   "cell_type": "code",
   "execution_count": 6,
   "metadata": {},
   "outputs": [
    {
     "ename": "SyntaxError",
     "evalue": "invalid syntax (<ipython-input-6-945a5b365a1c>, line 3)",
     "output_type": "error",
     "traceback": [
      "\u001b[0;36m  File \u001b[0;32m\"<ipython-input-6-945a5b365a1c>\"\u001b[0;36m, line \u001b[0;32m3\u001b[0m\n\u001b[0;31m    The basic procedure of constructing a Huffman codebook is as follows:\u001b[0m\n\u001b[0m            ^\u001b[0m\n\u001b[0;31mSyntaxError\u001b[0m\u001b[0;31m:\u001b[0m invalid syntax\n"
     ]
    }
   ],
   "source": [
    "### Construct Huffman Codebook\n",
    "\n",
    "The basic procedure of constructing a Huffman codebook is as follows:\n",
    "  * Validate that the input probabilities add to 1\n",
    "  * Build a Huffman codebook\n",
    "    1. Sort the list of probabilities;\n",
    "    2. Pop out the smallest two probabilities and add them up;\n",
    "    3. Push in the new probability;\n",
    "    4. Repeat Step 2 until no probability left.\n",
    "  * Assign `0` or `1` to each node on the Huffman tree\n",
    "\n",
    "**(8 marks)** Complete the following function that generates a Huffman codebook from a list of symbols with given **probabilities** (NOT frequencies). You can use a `for` loop to implement the procedure or, ideally, use the recursion that you learned from the previous workshop, which is a more elegant approach to construct a Huffman codebook in only 10 lines of script."
   ]
  },
  {
   "cell_type": "code",
   "execution_count": 5,
   "metadata": {},
   "outputs": [],
   "source": [
    "def huffman_codebook(probability):\n",
    "    \"\"\"\n",
    "    Construct Huffman codebook from given symbol probabilities\n",
    "    :param symbol: a dictionary of symbols with probabilities (float numbers), e.g., {'a':0.25, 'b':0.25, 'c':0.5}\n",
    "    :return: a dictionary of symbols with codewords (binary strings), e.g., {'a':'11', 'b':'10', 'c':'0'}\n",
    "    \"\"\"\n",
    "    # ensure the probabilities are added up to 1\n",
    "    assert abs(sum(probability.values()) - 1) < 1e-9\n",
    "    \n",
    "    probability = probability.copy()\n",
    "    \n",
    "    # recursion approx. 10 lines of script\n",
    "    ###################################\n",
    "    \n",
    "    ###################################\n",
    "\n",
    "    \n"
   ]
  },
  {
   "cell_type": "code",
   "execution_count": null,
   "metadata": {},
   "outputs": [],
   "source": [
    "# Execute the following script to verify your implementation. \n",
    "# If you encounter errors or the output is not as expected, go back and debug your script.\n",
    "# use 'symbol_x' as the source\n",
    "codebook_x = huffman_codebook(symbol_x)\n",
    "\n",
    "print('Huffman codebook generated.')\n",
    "pt = PrettyTable()\n",
    "pt.field_names = ['Symbol', 'Probability', 'Codeword']\n",
    "pt.align['Codeword'] = 'r'"
   ]
  }
 ],
 "metadata": {
  "kernelspec": {
   "display_name": "Python 2",
   "language": "python",
   "name": "python2"
  },
  "language_info": {
   "codemirror_mode": {
    "name": "ipython",
    "version": 2
   },
   "file_extension": ".py",
   "mimetype": "text/x-python",
   "name": "python",
   "nbconvert_exporter": "python",
   "pygments_lexer": "ipython2",
   "version": "2.7.15rc1"
  },
  "toc": {
   "base_numbering": 1,
   "nav_menu": {},
   "number_sections": true,
   "sideBar": true,
   "skip_h1_title": false,
   "title_cell": "Table of Contents",
   "title_sidebar": "Contents",
   "toc_cell": true,
   "toc_position": {},
   "toc_section_display": true,
   "toc_window_display": true
  }
 },
 "nbformat": 4,
 "nbformat_minor": 2
}
