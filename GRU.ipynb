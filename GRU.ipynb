{
 "cells": [
  {
   "cell_type": "code",
   "execution_count": 1,
   "metadata": {},
   "outputs": [],
   "source": [
    "import numpy as np\n",
    "import h5py\n",
    "from sklearn.metrics import accuracy_score\n",
    "import torch\n",
    "import torch.nn as nn\n",
    "import torch.optim as optim\n",
    "from torch.autograd import Variable\n",
    "import torch.nn.functional as F\n",
    "from RNNGRU.RNNnet import evaluate, EEGRNN"
   ]
  },
  {
   "cell_type": "code",
   "execution_count": 2,
   "metadata": {},
   "outputs": [],
   "source": [
    "X_test = np.load(\"X_test.npy\")\n",
    "y_test = np.load(\"y_test.npy\")\n",
    "person_train_valid = np.load(\"person_train_valid.npy\")\n",
    "X_train = np.load(\"X_train_valid.npy\")\n",
    "y_train = np.load(\"y_train_valid.npy\")\n",
    "person_test = np.load(\"person_test.npy\")\n",
    "\n",
    "X_train = np.expand_dims(X_train, 3)\n",
    "X_train = X_train.transpose(0,3,1,2)\n",
    "X_train = X_train.astype('float32')\n",
    "y_train=y_train-769\n",
    "y_train = np.int_(y_train)\n",
    "y_train=np.eye(4)[y_train]\n",
    "\n",
    "X_test = np.expand_dims(X_test, 3)\n",
    "X_test = X_test.transpose(0,3,1,2)\n",
    "X_test = X_test.astype('float32')\n",
    "y_test= y_test-769\n",
    "y_test = np.int_(y_test)\n",
    "y_test=np.eye(4)[y_test]"
   ]
  },
  {
   "cell_type": "code",
   "execution_count": null,
   "metadata": {},
   "outputs": [
    {
     "name": "stdout",
     "output_type": "stream",
     "text": [
      "\n",
      "Epoch  0\n"
     ]
    },
    {
     "name": "stderr",
     "output_type": "stream",
     "text": [
      "/Users/zhijieyao/Desktop/Ucla/2019 winter/ECE 239/project/project/RNNGRU/RNNnet.py:184: UserWarning: Implicit dimension choice for softmax has been deprecated. Change the call to include dim=X as an argument.\n",
      "  x = self.sm(x)\n"
     ]
    },
    {
     "name": "stdout",
     "output_type": "stream",
     "text": [
      "13.774803094565868\n",
      "Test Accuracy -  0.5620767494356659\n"
     ]
    }
   ],
   "source": [
    "\n",
    "rnn = EEGRNN()\n",
    "criterion = nn.MSELoss()\n",
    "optimizer = optim.Adagrad(rnn.parameters())\n",
    "batch_size = 25\n",
    "for epoch in range(10):  # loop over the dataset mdultiple times\n",
    "    print(\"\\nEpoch \", epoch)\n",
    "    \n",
    "    running_loss = 0.0\n",
    "    \n",
    "    for i in range((X_train.shape[0])//batch_size):\n",
    "        s = i*batch_size\n",
    "        e = i*batch_size+batch_size\n",
    "        \n",
    "        inputs = torch.from_numpy(X_train[s:e])\n",
    "        labels = torch.FloatTensor(y_train[s:e])\n",
    "        \n",
    "        # wrap them in Variable\n",
    "        inputs, labels = Variable(inputs), Variable(labels)\n",
    "\n",
    "        # zero the parameter gradients\n",
    "        optimizer.zero_grad()\n",
    "\n",
    "        # forward + backward + optimize\n",
    "        outputs = rnn(inputs)\n",
    "        pred = outputs\n",
    "        loss = criterion(outputs, labels)\n",
    "        loss.backward()\n",
    "\n",
    "        optimizer.step()\n",
    "        \n",
    "        running_loss += loss.item()\n",
    "    \n",
    "        # accuracy\n",
    "    print(running_loss)\n",
    "    print(\"Test Accuracy - \", evaluate(rnn, X_test, y_test))\n",
    "    print(\"Train Accuracy- \", evaluate(rnn, X_train, y_train))"
   ]
  },
  {
   "cell_type": "code",
   "execution_count": null,
   "metadata": {},
   "outputs": [],
   "source": []
  },
  {
   "cell_type": "code",
   "execution_count": null,
   "metadata": {},
   "outputs": [],
   "source": []
  }
 ],
 "metadata": {
  "kernelspec": {
   "display_name": "Python 3",
   "language": "python",
   "name": "python3"
  },
  "language_info": {
   "codemirror_mode": {
    "name": "ipython",
    "version": 3
   },
   "file_extension": ".py",
   "mimetype": "text/x-python",
   "name": "python",
   "nbconvert_exporter": "python",
   "pygments_lexer": "ipython3",
   "version": "3.7.1"
  }
 },
 "nbformat": 4,
 "nbformat_minor": 2
}
